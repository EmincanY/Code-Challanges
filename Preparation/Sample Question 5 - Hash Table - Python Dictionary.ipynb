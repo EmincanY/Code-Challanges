{
 "cells": [
  {
   "cell_type": "markdown",
   "metadata": {},
   "source": [
    "# Problem: Find a pair of numbers that add up to 10.\n",
    "\n",
    "You are given a list / array with integers.\n",
    "\n",
    "Example Input:  \n",
    "[3, 4, 1, 2, 9]\n",
    "\n",
    "Write a function, pair10(input), which finds and prints out a pair (any of them) of numbers that add up to 10."
   ]
  },
  {
   "cell_type": "markdown",
   "metadata": {},
   "source": [
    "### NOTE: Make sure to run your program once you write it :)"
   ]
  },
  {
   "cell_type": "markdown",
   "metadata": {},
   "source": [
    "# Implement your function below."
   ]
  },
  {
   "cell_type": "code",
   "execution_count": 18,
   "metadata": {
    "collapsed": false
   },
   "outputs": [],
   "source": [
    "# Input: A list / array with integers.  For example:\n",
    "# [3, 4, 1, 2, 9]\n",
    "# Returns:\n",
    "#  Nothing. However, this function will print out\n",
    "#  a pair of numbers that adds up to 10. For example,\n",
    "#  1, 9.  If no such pair is found, it should print\n",
    "#  \"There is no pair that adds up to 10.\".\n",
    "def pair10(given_list):\n",
    "    for num in given_list : \n",
    "        for num2 in given_list :\n",
    "            if (num + num2 == 10) & (num != num2) :\n",
    "                return(num,num2)\n",
    "                \n",
    "    else :         \n",
    "        print(\"There is no pair that adds up to 10.\")"
   ]
  },
  {
   "cell_type": "markdown",
   "metadata": {},
   "source": [
    "# Use the code below to test your function."
   ]
  },
  {
   "cell_type": "code",
   "execution_count": 19,
   "metadata": {
    "collapsed": false
   },
   "outputs": [
    {
     "name": "stdout",
     "output_type": "stream",
     "text": [
      "\n",
      "Which pair adds up to 10? (Should print 1, 9)\n",
      "\n",
      "[3, 4, 1, 2, 9]\n",
      "\n"
     ]
    },
    {
     "data": {
      "text/plain": [
       "(1, 9)"
      ]
     },
     "execution_count": 19,
     "metadata": {},
     "output_type": "execute_result"
    }
   ],
   "source": [
    "print(\"\"\"\n",
    "Which pair adds up to 10? (Should print 1, 9)\n",
    "\n",
    "[3, 4, 1, 2, 9]\n",
    "\"\"\")\n",
    "\n",
    "pair10([3, 4, 1, 2, 9])"
   ]
  },
  {
   "cell_type": "code",
   "execution_count": 20,
   "metadata": {
    "collapsed": false
   },
   "outputs": [
    {
     "name": "stdout",
     "output_type": "stream",
     "text": [
      "\n",
      "Which pair adds up to 10? (Should print -20, 30)\n",
      "\n",
      "[-11, -20, 2, 4, 30]\n",
      "\n"
     ]
    },
    {
     "data": {
      "text/plain": [
       "(-20, 30)"
      ]
     },
     "execution_count": 20,
     "metadata": {},
     "output_type": "execute_result"
    }
   ],
   "source": [
    "print(\"\"\"\n",
    "Which pair adds up to 10? (Should print -20, 30)\n",
    "\n",
    "[-11, -20, 2, 4, 30]\n",
    "\"\"\")\n",
    "\n",
    "pair10([-11, -20, 2, 4, 30])"
   ]
  },
  {
   "cell_type": "code",
   "execution_count": 21,
   "metadata": {
    "collapsed": false
   },
   "outputs": [
    {
     "name": "stdout",
     "output_type": "stream",
     "text": [
      "\n",
      "Which pair adds up to 10? (Should print 1, 9 or 2, 8)\n",
      "\n",
      "[1, 2, 9, 8]\n",
      "\n"
     ]
    },
    {
     "data": {
      "text/plain": [
       "(1, 9)"
      ]
     },
     "execution_count": 21,
     "metadata": {},
     "output_type": "execute_result"
    }
   ],
   "source": [
    "print(\"\"\"\n",
    "Which pair adds up to 10? (Should print 1, 9 or 2, 8)\n",
    "\n",
    "[1, 2, 9, 8]\n",
    "\"\"\")\n",
    "\n",
    "pair10([1, 2, 9, 8])"
   ]
  },
  {
   "cell_type": "code",
   "execution_count": 22,
   "metadata": {
    "collapsed": false
   },
   "outputs": [
    {
     "name": "stdout",
     "output_type": "stream",
     "text": [
      "\n",
      "Which pair adds up to 10? (Should print 1, 9)\n",
      "\n",
      "[1, 1, 1, 2, 3, 9]\n",
      "\n"
     ]
    },
    {
     "data": {
      "text/plain": [
       "(1, 9)"
      ]
     },
     "execution_count": 22,
     "metadata": {},
     "output_type": "execute_result"
    }
   ],
   "source": [
    "print(\"\"\"\n",
    "Which pair adds up to 10? (Should print 1, 9)\n",
    "\n",
    "[1, 1, 1, 2, 3, 9]\n",
    "\"\"\")\n",
    "\n",
    "pair10([1, 1, 1, 2, 3, 9])"
   ]
  },
  {
   "cell_type": "code",
   "execution_count": 23,
   "metadata": {
    "collapsed": false
   },
   "outputs": [
    {
     "name": "stdout",
     "output_type": "stream",
     "text": [
      "\n",
      "Which pair adds up to 10? (Should print \"There is no pair that adds up to 10.\")\n",
      "\n",
      "[1, 1, 1, 2, 3, 4, 5]\n",
      "\n",
      "There is no pair that adds up to 10.\n"
     ]
    }
   ],
   "source": [
    "print(\"\"\"\n",
    "Which pair adds up to 10? (Should print \"There is no pair that adds up to 10.\")\n",
    "\n",
    "[1, 1, 1, 2, 3, 4, 5]\n",
    "\"\"\")\n",
    "\n",
    "pair10([1, 1, 1, 2, 3, 4, 5])"
   ]
  },
  {
   "cell_type": "code",
   "execution_count": null,
   "metadata": {},
   "outputs": [],
   "source": []
  }
 ],
 "metadata": {
  "anaconda-cloud": {},
  "kernelspec": {
   "display_name": "Python 3.10.5 64-bit",
   "language": "python",
   "name": "python3"
  },
  "language_info": {
   "codemirror_mode": {
    "name": "ipython",
    "version": 3
   },
   "file_extension": ".py",
   "mimetype": "text/x-python",
   "name": "python",
   "nbconvert_exporter": "python",
   "pygments_lexer": "ipython3",
   "version": "3.10.5"
  },
  "vscode": {
   "interpreter": {
    "hash": "2d8cd8638caa719e77c3ece9ee6c9cdab6f2065d170551d375a17b4273bc3a23"
   }
  }
 },
 "nbformat": 4,
 "nbformat_minor": 1
}
