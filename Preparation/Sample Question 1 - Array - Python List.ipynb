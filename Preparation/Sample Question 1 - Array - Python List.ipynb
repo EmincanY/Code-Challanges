{
 "cells": [
  {
   "cell_type": "markdown",
   "metadata": {},
   "source": [
    "# Problem: Find the second largest number in an array!\n",
    "\n",
    "You are given an array (or a Python list) of integers.\n",
    "\n",
    "For example, [1, 3, 4, 5, 0, 2].\n",
    "\n",
    "Write a function, second_largest(given_list), which takes the list as the input, and returns the second largest number.\n",
    "\n",
    "## Examples:\n",
    "\n",
    "- **second_largest( [1, 3, 4, 5, 0, 2] )** should return 4.\n",
    "- **second_largest( [-2, -1] )** should return -2.\n",
    "- **second_largest( [2, 2, 1] )** should return 2.\n",
    "- **second_largest( [2] )** should return None.\n",
    "- **second_largest( [] )** should return None."
   ]
  },
  {
   "cell_type": "markdown",
   "metadata": {},
   "source": [
    "### NOTE: Feel free to use any other language or any other IDE for solving this problem.\n",
    "\n",
    "### NOTE 2: Make sure to run your program once you write it.\n",
    "\n",
    "#### Oh, and most importantly, have fun solving it! :)"
   ]
  },
  {
   "cell_type": "markdown",
   "metadata": {},
   "source": [
    "# Implement your function below."
   ]
  },
  {
   "cell_type": "code",
   "execution_count": 1,
   "metadata": {
    "collapsed": false
   },
   "outputs": [],
   "source": [
    "# Input:\n",
    "#  a: The given list/array of integers.  Example: [1, -2, 3, 4]\n",
    "# Returns:\n",
    "#  The second largest number in the list or None if\n",
    "#  the array's length is only 1 or 2.\n",
    "def second_largest(given_list):\n",
    "    sorted_list = sorted(given_list , reverse = True)\n",
    "    return sorted_list[1]# A fake return value."
   ]
  },
  {
   "cell_type": "markdown",
   "metadata": {},
   "source": [
    "# Use the code below to test your function."
   ]
  },
  {
   "cell_type": "code",
   "execution_count": 2,
   "metadata": {
    "collapsed": false
   },
   "outputs": [
    {
     "name": "stdout",
     "output_type": "stream",
     "text": [
      "The second largest number in [1, 3, 4, 5, 0, 2] is (should be 4):\n",
      "4\n"
     ]
    }
   ],
   "source": [
    "print('The second largest number in [1, 3, 4, 5, 0, 2] is (should be 4):')\n",
    "print(second_largest([1, 3, 4, 5, 0, 2]))"
   ]
  },
  {
   "cell_type": "code",
   "execution_count": 3,
   "metadata": {
    "collapsed": false
   },
   "outputs": [
    {
     "name": "stdout",
     "output_type": "stream",
     "text": [
      "The second largest number in [-2, -1] is: (should be -2)\n",
      "-2\n"
     ]
    }
   ],
   "source": [
    "print('The second largest number in [-2, -1] is: (should be -2)')\n",
    "print(second_largest([-2, -1]))"
   ]
  },
  {
   "cell_type": "code",
   "execution_count": 4,
   "metadata": {
    "collapsed": false
   },
   "outputs": [
    {
     "name": "stdout",
     "output_type": "stream",
     "text": [
      "The second largest number in [2, 2, 1] is: (should be 2)\n",
      "2\n"
     ]
    }
   ],
   "source": [
    "print('The second largest number in [2, 2, 1] is: (should be 2)')\n",
    "print(second_largest([2, 2, 1]))"
   ]
  },
  {
   "cell_type": "code",
   "execution_count": 5,
   "metadata": {
    "collapsed": false
   },
   "outputs": [
    {
     "name": "stdout",
     "output_type": "stream",
     "text": [
      "The second largest number in [2] is: (should be None)\n"
     ]
    },
    {
     "ename": "IndexError",
     "evalue": "list index out of range",
     "output_type": "error",
     "traceback": [
      "\u001b[1;31m---------------------------------------------------------------------------\u001b[0m",
      "\u001b[1;31mIndexError\u001b[0m                                Traceback (most recent call last)",
      "\u001b[1;32mc:\\Users\\EmincanY\\Desktop\\Ex_Files_Get_Ready_Coding_Interview_2021\\Exercise Files\\Ch02\\Sample Question 1 - Array - Python List.ipynb Hücre 9\u001b[0m in \u001b[0;36m<cell line: 2>\u001b[1;34m()\u001b[0m\n\u001b[0;32m      <a href='vscode-notebook-cell:/c%3A/Users/EmincanY/Desktop/Ex_Files_Get_Ready_Coding_Interview_2021/Exercise%20Files/Ch02/Sample%20Question%201%20-%20Array%20-%20Python%20List.ipynb#X11sZmlsZQ%3D%3D?line=0'>1</a>\u001b[0m \u001b[39mprint\u001b[39m(\u001b[39m'\u001b[39m\u001b[39mThe second largest number in [2] is: (should be None)\u001b[39m\u001b[39m'\u001b[39m)\n\u001b[1;32m----> <a href='vscode-notebook-cell:/c%3A/Users/EmincanY/Desktop/Ex_Files_Get_Ready_Coding_Interview_2021/Exercise%20Files/Ch02/Sample%20Question%201%20-%20Array%20-%20Python%20List.ipynb#X11sZmlsZQ%3D%3D?line=1'>2</a>\u001b[0m \u001b[39mprint\u001b[39m(second_largest([\u001b[39m2\u001b[39;49m]))\n",
      "\u001b[1;32mc:\\Users\\EmincanY\\Desktop\\Ex_Files_Get_Ready_Coding_Interview_2021\\Exercise Files\\Ch02\\Sample Question 1 - Array - Python List.ipynb Hücre 9\u001b[0m in \u001b[0;36msecond_largest\u001b[1;34m(given_list)\u001b[0m\n\u001b[0;32m      <a href='vscode-notebook-cell:/c%3A/Users/EmincanY/Desktop/Ex_Files_Get_Ready_Coding_Interview_2021/Exercise%20Files/Ch02/Sample%20Question%201%20-%20Array%20-%20Python%20List.ipynb#X11sZmlsZQ%3D%3D?line=5'>6</a>\u001b[0m \u001b[39mdef\u001b[39;00m \u001b[39msecond_largest\u001b[39m(given_list):\n\u001b[0;32m      <a href='vscode-notebook-cell:/c%3A/Users/EmincanY/Desktop/Ex_Files_Get_Ready_Coding_Interview_2021/Exercise%20Files/Ch02/Sample%20Question%201%20-%20Array%20-%20Python%20List.ipynb#X11sZmlsZQ%3D%3D?line=6'>7</a>\u001b[0m     sorted_list \u001b[39m=\u001b[39m \u001b[39msorted\u001b[39m(given_list , reverse \u001b[39m=\u001b[39m \u001b[39mTrue\u001b[39;00m)\n\u001b[1;32m----> <a href='vscode-notebook-cell:/c%3A/Users/EmincanY/Desktop/Ex_Files_Get_Ready_Coding_Interview_2021/Exercise%20Files/Ch02/Sample%20Question%201%20-%20Array%20-%20Python%20List.ipynb#X11sZmlsZQ%3D%3D?line=7'>8</a>\u001b[0m     \u001b[39mreturn\u001b[39;00m sorted_list[\u001b[39m1\u001b[39;49m]\n",
      "\u001b[1;31mIndexError\u001b[0m: list index out of range"
     ]
    }
   ],
   "source": [
    "print('The second largest number in [2] is: (should be None)')\n",
    "print(second_largest([2]))"
   ]
  },
  {
   "cell_type": "code",
   "execution_count": 6,
   "metadata": {
    "collapsed": false
   },
   "outputs": [
    {
     "name": "stdout",
     "output_type": "stream",
     "text": [
      "The second largest number in [] is: (should be None)\n"
     ]
    },
    {
     "ename": "IndexError",
     "evalue": "list index out of range",
     "output_type": "error",
     "traceback": [
      "\u001b[1;31m---------------------------------------------------------------------------\u001b[0m",
      "\u001b[1;31mIndexError\u001b[0m                                Traceback (most recent call last)",
      "\u001b[1;32mc:\\Users\\EmincanY\\Desktop\\Ex_Files_Get_Ready_Coding_Interview_2021\\Exercise Files\\Ch02\\Sample Question 1 - Array - Python List.ipynb Hücre 10\u001b[0m in \u001b[0;36m<cell line: 2>\u001b[1;34m()\u001b[0m\n\u001b[0;32m      <a href='vscode-notebook-cell:/c%3A/Users/EmincanY/Desktop/Ex_Files_Get_Ready_Coding_Interview_2021/Exercise%20Files/Ch02/Sample%20Question%201%20-%20Array%20-%20Python%20List.ipynb#X12sZmlsZQ%3D%3D?line=0'>1</a>\u001b[0m \u001b[39mprint\u001b[39m(\u001b[39m'\u001b[39m\u001b[39mThe second largest number in [] is: (should be None)\u001b[39m\u001b[39m'\u001b[39m)\n\u001b[1;32m----> <a href='vscode-notebook-cell:/c%3A/Users/EmincanY/Desktop/Ex_Files_Get_Ready_Coding_Interview_2021/Exercise%20Files/Ch02/Sample%20Question%201%20-%20Array%20-%20Python%20List.ipynb#X12sZmlsZQ%3D%3D?line=1'>2</a>\u001b[0m \u001b[39mprint\u001b[39m(second_largest([]))\n",
      "\u001b[1;32mc:\\Users\\EmincanY\\Desktop\\Ex_Files_Get_Ready_Coding_Interview_2021\\Exercise Files\\Ch02\\Sample Question 1 - Array - Python List.ipynb Hücre 10\u001b[0m in \u001b[0;36msecond_largest\u001b[1;34m(given_list)\u001b[0m\n\u001b[0;32m      <a href='vscode-notebook-cell:/c%3A/Users/EmincanY/Desktop/Ex_Files_Get_Ready_Coding_Interview_2021/Exercise%20Files/Ch02/Sample%20Question%201%20-%20Array%20-%20Python%20List.ipynb#X12sZmlsZQ%3D%3D?line=5'>6</a>\u001b[0m \u001b[39mdef\u001b[39;00m \u001b[39msecond_largest\u001b[39m(given_list):\n\u001b[0;32m      <a href='vscode-notebook-cell:/c%3A/Users/EmincanY/Desktop/Ex_Files_Get_Ready_Coding_Interview_2021/Exercise%20Files/Ch02/Sample%20Question%201%20-%20Array%20-%20Python%20List.ipynb#X12sZmlsZQ%3D%3D?line=6'>7</a>\u001b[0m     sorted_list \u001b[39m=\u001b[39m \u001b[39msorted\u001b[39m(given_list , reverse \u001b[39m=\u001b[39m \u001b[39mTrue\u001b[39;00m)\n\u001b[1;32m----> <a href='vscode-notebook-cell:/c%3A/Users/EmincanY/Desktop/Ex_Files_Get_Ready_Coding_Interview_2021/Exercise%20Files/Ch02/Sample%20Question%201%20-%20Array%20-%20Python%20List.ipynb#X12sZmlsZQ%3D%3D?line=7'>8</a>\u001b[0m     \u001b[39mreturn\u001b[39;00m sorted_list[\u001b[39m1\u001b[39;49m]\n",
      "\u001b[1;31mIndexError\u001b[0m: list index out of range"
     ]
    }
   ],
   "source": [
    "print('The second largest number in [] is: (should be None)')\n",
    "print(second_largest([]))"
   ]
  },
  {
   "cell_type": "code",
   "execution_count": null,
   "metadata": {
    "collapsed": true
   },
   "outputs": [],
   "source": []
  }
 ],
 "metadata": {
  "anaconda-cloud": {},
  "kernelspec": {
   "display_name": "Python 3.10.5 64-bit",
   "language": "python",
   "name": "python3"
  },
  "language_info": {
   "codemirror_mode": {
    "name": "ipython",
    "version": 3
   },
   "file_extension": ".py",
   "mimetype": "text/x-python",
   "name": "python",
   "nbconvert_exporter": "python",
   "pygments_lexer": "ipython3",
   "version": "3.10.5"
  },
  "vscode": {
   "interpreter": {
    "hash": "2d8cd8638caa719e77c3ece9ee6c9cdab6f2065d170551d375a17b4273bc3a23"
   }
  }
 },
 "nbformat": 4,
 "nbformat_minor": 1
}
