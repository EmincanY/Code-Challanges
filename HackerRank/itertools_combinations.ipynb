{
 "cells": [
  {
   "cell_type": "code",
   "execution_count": 1,
   "metadata": {},
   "outputs": [],
   "source": [
    "from itertools import combinations"
   ]
  },
  {
   "cell_type": "code",
   "execution_count": 2,
   "metadata": {},
   "outputs": [
    {
     "name": "stdout",
     "output_type": "stream",
     "text": [
      "<itertools.combinations object at 0x000001CE9F5A9C60>\n"
     ]
    }
   ],
   "source": [
    "print(combinations([1,2,3] , 2))"
   ]
  },
  {
   "cell_type": "code",
   "execution_count": 3,
   "metadata": {},
   "outputs": [
    {
     "name": "stdout",
     "output_type": "stream",
     "text": [
      "[(1, 2), (1, 3), (2, 3)]\n"
     ]
    }
   ],
   "source": [
    "print(list(combinations([1,2,3] , 2)))"
   ]
  },
  {
   "cell_type": "code",
   "execution_count": 4,
   "metadata": {},
   "outputs": [
    {
     "name": "stdout",
     "output_type": "stream",
     "text": [
      "[('1', '2'), ('1', '3'), ('2', '3')]\n"
     ]
    }
   ],
   "source": [
    "print(list(combinations('123' , 2)))"
   ]
  },
  {
   "cell_type": "code",
   "execution_count": 5,
   "metadata": {},
   "outputs": [
    {
     "name": "stdout",
     "output_type": "stream",
     "text": [
      "[('1', '2', '3')]\n"
     ]
    }
   ],
   "source": [
    "print(list(combinations('123' , 3)))"
   ]
  },
  {
   "cell_type": "code",
   "execution_count": 6,
   "metadata": {},
   "outputs": [
    {
     "name": "stdout",
     "output_type": "stream",
     "text": [
      "('H',)\n",
      "('A',)\n",
      "('C',)\n",
      "('K',)\n",
      "('H', 'A')\n",
      "('H', 'C')\n",
      "('H', 'K')\n",
      "('A', 'C')\n",
      "('A', 'K')\n",
      "('C', 'K')\n"
     ]
    }
   ],
   "source": [
    "str = input()\n",
    "k = int(input())\n",
    "all_combins = []\n",
    "\n",
    "for i in range(1,k+1):\n",
    "    for combin in list(combinations(str,i)):\n",
    "        all_combins.append(combin)\n",
    "        \n",
    "for result in all_combins:\n",
    "    print(result)\n",
    "    \n",
    "# Fail"
   ]
  },
  {
   "cell_type": "code",
   "execution_count": 7,
   "metadata": {},
   "outputs": [
    {
     "name": "stdout",
     "output_type": "stream",
     "text": [
      "A\n",
      "C\n",
      "H\n",
      "K\n",
      "AC\n",
      "AH\n",
      "AK\n",
      "CH\n",
      "CK\n",
      "HK\n"
     ]
    }
   ],
   "source": [
    "s, k = input().split()\n",
    "s = sorted(s)\n",
    "\n",
    "for i in range(1, int(k) + 1):\n",
    "    for c in combinations(s, i):\n",
    "        print(''.join(c))\n",
    "\n",
    "# Thats better"
   ]
  },
  {
   "cell_type": "code",
   "execution_count": null,
   "metadata": {},
   "outputs": [],
   "source": [
    "# Done."
   ]
  }
 ],
 "metadata": {
  "kernelspec": {
   "display_name": "Python 3",
   "language": "python",
   "name": "python3"
  },
  "language_info": {
   "codemirror_mode": {
    "name": "ipython",
    "version": 3
   },
   "file_extension": ".py",
   "mimetype": "text/x-python",
   "name": "python",
   "nbconvert_exporter": "python",
   "pygments_lexer": "ipython3",
   "version": "3.10.10"
  },
  "orig_nbformat": 4
 },
 "nbformat": 4,
 "nbformat_minor": 2
}
